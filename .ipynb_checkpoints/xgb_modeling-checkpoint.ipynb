{
 "cells": [
  {
   "cell_type": "markdown",
   "metadata": {},
   "source": [
    "# XGBoost modeling"
   ]
  },
  {
   "cell_type": "markdown",
   "metadata": {},
   "source": [
    "##### Import libraries and data"
   ]
  },
  {
   "cell_type": "code",
   "execution_count": 1,
   "metadata": {
    "scrolled": true
   },
   "outputs": [
    {
     "name": "stderr",
     "output_type": "stream",
     "text": [
      "C:\\Users\\zasz\\Anaconda3\\lib\\site-packages\\dask\\config.py:168: YAMLLoadWarning: calling yaml.load() without Loader=... is deprecated, as the default Loader is unsafe. Please read https://msg.pyyaml.org/load for full details.\n",
      "  data = yaml.load(f.read()) or {}\n",
      "C:\\Users\\zasz\\Anaconda3\\lib\\site-packages\\distributed\\config.py:20: YAMLLoadWarning: calling yaml.load() without Loader=... is deprecated, as the default Loader is unsafe. Please read https://msg.pyyaml.org/load for full details.\n",
      "  defaults = yaml.load(f)\n"
     ]
    }
   ],
   "source": [
    "# import libraries\n",
    "\n",
    "import numpy as np\n",
    "import pandas as pd\n",
    "import matplotlib.pyplot as plt\n",
    "from xgboost import XGBClassifier\n",
    "from sklearn.model_selection import GridSearchCV\n",
    "from sklearn.preprocessing import StandardScaler\n",
    "from sklearn.pipeline import Pipeline\n",
    "from sklearn.metrics import classification_report, precision_score, recall_score\n",
    "\n",
    "\n",
    "# import data\n",
    "train = pd.read_csv(\"train.csv\")\n",
    "val = pd.read_csv(\"val.csv\")\n",
    "\n",
    "train.drop([\"fbs_1\", \"cp_3\", \"restecg_2\", \"thal_1\", \"ca_4\"], axis=1, inplace=True)\n",
    "\n",
    "val.drop([\"fbs_1\", \"cp_3\", \"restecg_2\", \"thal_1\", \"ca_4\"], axis=1, inplace=True)"
   ]
  },
  {
   "cell_type": "markdown",
   "metadata": {},
   "source": [
    "# 1. Split X and y"
   ]
  },
  {
   "cell_type": "code",
   "execution_count": 2,
   "metadata": {},
   "outputs": [],
   "source": [
    "# split X and y variables\n",
    "X = train.drop(\"target\", axis=1)\n",
    "y = train.target\n",
    "cols = X.columns\n",
    "\n",
    "X_val = val.drop(\"target\", axis=1)\n",
    "y_val = val.target"
   ]
  },
  {
   "cell_type": "markdown",
   "metadata": {},
   "source": [
    "# 2. Scaling"
   ]
  },
  {
   "cell_type": "code",
   "execution_count": 3,
   "metadata": {},
   "outputs": [],
   "source": [
    "# scale the data with standard scaler\n",
    "sc = StandardScaler()\n",
    "X = sc.fit_transform(X)\n",
    "X_val = sc.transform(X_val)\n",
    "\n",
    "X = pd.DataFrame(X, columns=cols)\n",
    "X_val = pd.DataFrame(X_val, columns=cols)"
   ]
  },
  {
   "cell_type": "markdown",
   "metadata": {},
   "source": [
    "# 3. Hyperparameter tuning"
   ]
  },
  {
   "cell_type": "code",
   "execution_count": 22,
   "metadata": {},
   "outputs": [
    {
     "name": "stderr",
     "output_type": "stream",
     "text": [
      "C:\\Users\\zasz\\Anaconda3\\lib\\site-packages\\sklearn\\model_selection\\_search.py:814: DeprecationWarning: The default of the `iid` parameter will change from True to False in version 0.22 and will be removed in 0.24. This will change numeric results when test-set sizes are unequal.\n",
      "  DeprecationWarning)\n"
     ]
    },
    {
     "data": {
      "text/plain": [
       "GridSearchCV(cv=5, error_score='raise-deprecating',\n",
       "             estimator=XGBClassifier(base_score=None, booster=None,\n",
       "                                     colsample_bylevel=None,\n",
       "                                     colsample_bynode=None,\n",
       "                                     colsample_bytree=None, gamma=None,\n",
       "                                     gpu_id=None, importance_type='gain',\n",
       "                                     interaction_constraints=None,\n",
       "                                     learning_rate=None, max_delta_step=None,\n",
       "                                     max_depth=None, min_child_weight=None,\n",
       "                                     missing=nan, monotone_constrai...\n",
       "                                     objective='binary:logistic',\n",
       "                                     random_state=None, reg_alpha=None,\n",
       "                                     reg_lambda=None, scale_pos_weight=None,\n",
       "                                     subsample=None, tree_method=None,\n",
       "                                     validate_parameters=None, verbosity=None),\n",
       "             iid='warn', n_jobs=None,\n",
       "             param_grid={'learning_rate': [None, 0.01, 0.1],\n",
       "                         'max_depth': [2, 3, 4, None],\n",
       "                         'n_estimators': [100, 150]},\n",
       "             pre_dispatch='2*n_jobs', refit=True, return_train_score=False,\n",
       "             scoring=None, verbose=0)"
      ]
     },
     "execution_count": 22,
     "metadata": {},
     "output_type": "execute_result"
    }
   ],
   "source": [
    "# create a parameter grid and conduct gridsearch\n",
    "params = {\n",
    "    \"max_depth\":[2, 3, 4, None],\n",
    "    \"n_estimators\":[100, 150], \n",
    "    \"learning_rate\":[None, 0.01, 0.1]\n",
    "}\n",
    "\n",
    "gs = GridSearchCV(XGBClassifier(), param_grid=params, cv=5)\n",
    "gs.fit(X, y)"
   ]
  },
  {
   "cell_type": "code",
   "execution_count": 23,
   "metadata": {},
   "outputs": [
    {
     "data": {
      "text/plain": [
       "{'learning_rate': 0.1, 'max_depth': 3, 'n_estimators': 150}"
      ]
     },
     "execution_count": 23,
     "metadata": {},
     "output_type": "execute_result"
    }
   ],
   "source": [
    "# view best params\n",
    "gs.best_params_"
   ]
  },
  {
   "cell_type": "code",
   "execution_count": 24,
   "metadata": {},
   "outputs": [],
   "source": [
    "# save the best estimator\n",
    "model1 = gs.best_estimator_"
   ]
  },
  {
   "cell_type": "markdown",
   "metadata": {},
   "source": [
    "# Performance Metrics"
   ]
  },
  {
   "cell_type": "code",
   "execution_count": 25,
   "metadata": {},
   "outputs": [
    {
     "name": "stdout",
     "output_type": "stream",
     "text": [
      "training scores\n",
      "              precision    recall  f1-score   support\n",
      "\n",
      "           0       0.99      0.98      0.99       120\n",
      "           1       0.98      0.99      0.99       124\n",
      "\n",
      "    accuracy                           0.99       244\n",
      "   macro avg       0.99      0.99      0.99       244\n",
      "weighted avg       0.99      0.99      0.99       244\n",
      "\n",
      "\n",
      " validation scores\n",
      "              precision    recall  f1-score   support\n",
      "\n",
      "           0       0.60      1.00      0.75         9\n",
      "           1       1.00      0.68      0.81        19\n",
      "\n",
      "    accuracy                           0.79        28\n",
      "   macro avg       0.80      0.84      0.78        28\n",
      "weighted avg       0.87      0.79      0.79        28\n",
      "\n"
     ]
    }
   ],
   "source": [
    "# examine the performance metrics\n",
    "model1.fit(X, y)\n",
    "train_pred = model1.predict(X)\n",
    "y_pred = model1.predict(X_val)\n",
    "\n",
    "print(\"training scores\")\n",
    "print(classification_report(y, train_pred))\n",
    "print('\\n validation scores')\n",
    "print(classification_report(y_val, y_pred))"
   ]
  },
  {
   "cell_type": "markdown",
   "metadata": {},
   "source": [
    "## Problem: over fitting"
   ]
  },
  {
   "cell_type": "markdown",
   "metadata": {},
   "source": [
    "The training set did much better than the validation set so I will try lowering the max depth parameter and increase the number of estimators"
   ]
  },
  {
   "cell_type": "code",
   "execution_count": 26,
   "metadata": {},
   "outputs": [],
   "source": [
    "# lower the max depth parameter\n",
    "model1 = model1.set_params(max_depth = 2, n_estimators = 300)"
   ]
  },
  {
   "cell_type": "code",
   "execution_count": 27,
   "metadata": {},
   "outputs": [
    {
     "name": "stdout",
     "output_type": "stream",
     "text": [
      "training scores\n",
      "              precision    recall  f1-score   support\n",
      "\n",
      "           0       0.97      0.97      0.97       120\n",
      "           1       0.97      0.97      0.97       124\n",
      "\n",
      "    accuracy                           0.97       244\n",
      "   macro avg       0.97      0.97      0.97       244\n",
      "weighted avg       0.97      0.97      0.97       244\n",
      "\n",
      "\n",
      " validation scores\n",
      "              precision    recall  f1-score   support\n",
      "\n",
      "           0       0.62      0.89      0.73         9\n",
      "           1       0.93      0.74      0.82        19\n",
      "\n",
      "    accuracy                           0.79        28\n",
      "   macro avg       0.77      0.81      0.78        28\n",
      "weighted avg       0.83      0.79      0.79        28\n",
      "\n"
     ]
    }
   ],
   "source": [
    "# examine the performance metrics\n",
    "model1.fit(X, y)\n",
    "train_pred = model1.predict(X)\n",
    "y_pred = model1.predict(X_val)\n",
    "\n",
    "print(\"training scores\")\n",
    "print(classification_report(y, train_pred))\n",
    "print('\\n validation scores')\n",
    "print(classification_report(y_val, y_pred))"
   ]
  },
  {
   "cell_type": "markdown",
   "metadata": {},
   "source": [
    "## Feature importances"
   ]
  },
  {
   "cell_type": "code",
   "execution_count": 14,
   "metadata": {
    "scrolled": true
   },
   "outputs": [
    {
     "data": {
      "image/png": "[encoded data removed]",
      "text/plain": [
       "<Figure size 432x288 with 1 Axes>"
      ]
     },
     "metadata": {
      "needs_background": "light"
     },
     "output_type": "display_data"
    }
   ],
   "source": [
    "plt.barh(X.columns, model1.feature_importances_)\n",
    "plt.show()"
   ]
  },
  {
   "cell_type": "markdown",
   "metadata": {},
   "source": [
    "## Select only the important features"
   ]
  },
  {
   "cell_type": "code",
   "execution_count": 16,
   "metadata": {},
   "outputs": [],
   "source": [
    "# select only the best columns\n",
    "X_t = pd.concat([X.thal_2, X.exang_1], axis=1)\n",
    "X_val_t = pd.concat([X_val.thal_2, X_val.exang_1], axis=1)"
   ]
  },
  {
   "cell_type": "markdown",
   "metadata": {},
   "source": [
    "# Hyperparameter tuning"
   ]
  },
  {
   "cell_type": "code",
   "execution_count": 17,
   "metadata": {},
   "outputs": [
    {
     "name": "stderr",
     "output_type": "stream",
     "text": [
      "C:\\Users\\zasz\\Anaconda3\\lib\\site-packages\\sklearn\\model_selection\\_search.py:814: DeprecationWarning: The default of the `iid` parameter will change from True to False in version 0.22 and will be removed in 0.24. This will change numeric results when test-set sizes are unequal.\n",
      "  DeprecationWarning)\n"
     ]
    },
    {
     "data": {
      "text/plain": [
       "GridSearchCV(cv=5, error_score='raise-deprecating',\n",
       "             estimator=XGBClassifier(base_score=None, booster=None,\n",
       "                                     colsample_bylevel=None,\n",
       "                                     colsample_bynode=None,\n",
       "                                     colsample_bytree=None, gamma=None,\n",
       "                                     gpu_id=None, importance_type='gain',\n",
       "                                     interaction_constraints=None,\n",
       "                                     learning_rate=None, max_delta_step=None,\n",
       "                                     max_depth=None, min_child_weight=None,\n",
       "                                     missing=nan, monotone_constrai...\n",
       "                                     objective='binary:logistic',\n",
       "                                     random_state=None, reg_alpha=None,\n",
       "                                     reg_lambda=None, scale_pos_weight=None,\n",
       "                                     subsample=None, tree_method=None,\n",
       "                                     validate_parameters=None, verbosity=None),\n",
       "             iid='warn', n_jobs=None,\n",
       "             param_grid={'learning_rate': [None, 0.01, 0.1],\n",
       "                         'max_depth': [2, 3], 'n_estimators': [200, 400]},\n",
       "             pre_dispatch='2*n_jobs', refit=True, return_train_score=False,\n",
       "             scoring=None, verbose=0)"
      ]
     },
     "execution_count": 17,
     "metadata": {},
     "output_type": "execute_result"
    }
   ],
   "source": [
    "# create a parameter grid and conduct gridsearch\n",
    "params = {\n",
    "    \"max_depth\":[2, 3],\n",
    "    \"n_estimators\":[200, 400], \n",
    "    \"learning_rate\":[None, 0.01, 0.1]\n",
    "}\n",
    "\n",
    "gs = GridSearchCV(XGBClassifier(), param_grid=params, cv=5)\n",
    "gs.fit(X, y)"
   ]
  },
  {
   "cell_type": "code",
   "execution_count": 18,
   "metadata": {},
   "outputs": [
    {
     "data": {
      "text/plain": [
       "{'learning_rate': 0.1, 'max_depth': 3, 'n_estimators': 200}"
      ]
     },
     "execution_count": 18,
     "metadata": {},
     "output_type": "execute_result"
    }
   ],
   "source": [
    "# view best params\n",
    "gs.best_params_"
   ]
  },
  {
   "cell_type": "code",
   "execution_count": 20,
   "metadata": {},
   "outputs": [],
   "source": [
    "# save the best estimator\n",
    "model2 = gs.best_estimator_"
   ]
  },
  {
   "cell_type": "markdown",
   "metadata": {},
   "source": [
    "# Performance Metrics"
   ]
  },
  {
   "cell_type": "code",
   "execution_count": 21,
   "metadata": {},
   "outputs": [
    {
     "name": "stdout",
     "output_type": "stream",
     "text": [
      "training scores\n",
      "              precision    recall  f1-score   support\n",
      "\n",
      "           0       0.99      0.99      0.99       120\n",
      "           1       0.99      0.99      0.99       124\n",
      "\n",
      "    accuracy                           0.99       244\n",
      "   macro avg       0.99      0.99      0.99       244\n",
      "weighted avg       0.99      0.99      0.99       244\n",
      "\n",
      "\n",
      " validation scores\n",
      "              precision    recall  f1-score   support\n",
      "\n",
      "           0       0.60      1.00      0.75         9\n",
      "           1       1.00      0.68      0.81        19\n",
      "\n",
      "    accuracy                           0.79        28\n",
      "   macro avg       0.80      0.84      0.78        28\n",
      "weighted avg       0.87      0.79      0.79        28\n",
      "\n"
     ]
    }
   ],
   "source": [
    "# examine the performance metrics\n",
    "model2.fit(X, y)\n",
    "train_pred = model1.predict(X)\n",
    "y_pred = model1.predict(X_val)\n",
    "\n",
    "print(\"training scores\")\n",
    "print(classification_report(y, train_pred))\n",
    "print('\\n validation scores')\n",
    "print(classification_report(y_val, y_pred))"
   ]
  },
  {
   "cell_type": "markdown",
   "metadata": {},
   "source": [
    "## Precision Recall Tradeoff"
   ]
  },
  {
   "cell_type": "code",
   "execution_count": 28,
   "metadata": {},
   "outputs": [
    {
     "name": "stderr",
     "output_type": "stream",
     "text": [
      "C:\\Users\\zasz\\Anaconda3\\lib\\site-packages\\sklearn\\metrics\\classification.py:1437: UndefinedMetricWarning: Precision is ill-defined and being set to 0.0 due to no predicted samples.\n",
      "  'precision', 'predicted', average, warn_for)\n"
     ]
    },
    {
     "data": {
      "image/png": "[encoded data removed]",
      "text/plain": [
       "<Figure size 1080x360 with 1 Axes>"
      ]
     },
     "metadata": {
      "needs_background": "light"
     },
     "output_type": "display_data"
    }
   ],
   "source": [
    "probs = model1.predict_proba(X)[:, 1]\n",
    "\n",
    "thresholds = np.linspace(0, 1, 100)\n",
    "\n",
    "precisions = []\n",
    "recalls = []\n",
    "for thresh in thresholds:\n",
    "    predicted_vals = [1 if prob > thresh else 0 for prob in probs]\n",
    "    precisions.append(precision_score(y, predicted_vals))\n",
    "    recalls.append(recall_score(y, predicted_vals))\n",
    "\n",
    "plt.figure(figsize=(15, 5))\n",
    "plt.plot(thresholds, recalls, label=\"recall\")\n",
    "plt.plot(thresholds, precisions, label=\"precision\")\n",
    "plt.title(\"precision recall tradeoff\")\n",
    "plt.legend()\n",
    "plt.show()"
   ]
  },
  {
   "cell_type": "markdown",
   "metadata": {},
   "source": [
    "It seems the best threshold is around 0.2"
   ]
  },
  {
   "cell_type": "code",
   "execution_count": 29,
   "metadata": {},
   "outputs": [
    {
     "name": "stdout",
     "output_type": "stream",
     "text": [
      "training scores\n",
      "              precision    recall  f1-score   support\n",
      "\n",
      "           0       0.99      0.81      0.89       120\n",
      "           1       0.84      0.99      0.91       124\n",
      "\n",
      "    accuracy                           0.90       244\n",
      "   macro avg       0.92      0.90      0.90       244\n",
      "weighted avg       0.91      0.90      0.90       244\n",
      "\n",
      "\n",
      " validation scores\n",
      "              precision    recall  f1-score   support\n",
      "\n",
      "           0       0.78      0.78      0.78         9\n",
      "           1       0.89      0.89      0.89        19\n",
      "\n",
      "    accuracy                           0.86        28\n",
      "   macro avg       0.84      0.84      0.84        28\n",
      "weighted avg       0.86      0.86      0.86        28\n",
      "\n"
     ]
    }
   ],
   "source": [
    "probs = model1.predict_proba(X)[:, 1]\n",
    "train_pred = [1 if prob > 0.2 else 0 for prob in probs]\n",
    "\n",
    "probs = model1.predict_proba(X_val)[:, 1]\n",
    "y_pred = [1 if prob > 0.2 else 0 for prob in probs]\n",
    "\n",
    "print(\"training scores\")\n",
    "print(classification_report(y, train_pred))\n",
    "print('\\n validation scores')\n",
    "print(classification_report(y_val, y_pred))"
   ]
  }
 ],
 "metadata": {
  "kernelspec": {
   "display_name": "Python 3",
   "language": "python",
   "name": "python3"
  },
  "language_info": {
   "codemirror_mode": {
    "name": "ipython",
    "version": 3
   },
   "file_extension": ".py",
   "mimetype": "text/x-python",
   "name": "python",
   "nbconvert_exporter": "python",
   "pygments_lexer": "ipython3",
   "version": "3.7.3"
  }
 },
 "nbformat": 4,
 "nbformat_minor": 2
}
