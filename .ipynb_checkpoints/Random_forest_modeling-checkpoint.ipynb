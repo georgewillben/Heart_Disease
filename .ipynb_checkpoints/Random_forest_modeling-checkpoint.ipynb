{
 "cells": [
  {
   "cell_type": "markdown",
   "metadata": {},
   "source": [
    "# Random Forest modeling"
   ]
  },
  {
   "cell_type": "markdown",
   "metadata": {},
   "source": [
    "##### Import libraries and data"
   ]
  },
  {
   "cell_type": "code",
   "execution_count": 1,
   "metadata": {
    "scrolled": true
   },
   "outputs": [],
   "source": [
    "# import libraries\n",
    "\n",
    "import numpy as np\n",
    "import pandas as pd\n",
    "import matplotlib.pyplot as plt\n",
    "from sklearn.ensemble import RandomForestClassifier\n",
    "from sklearn.model_selection import GridSearchCV\n",
    "from sklearn.preprocessing import StandardScaler\n",
    "from sklearn.pipeline import Pipeline\n",
    "from sklearn.metrics import classification_report, precision_score, recall_score\n",
    "\n",
    "# import data\n",
    "train = pd.read_csv(\"train.csv\")\n",
    "val = pd.read_csv(\"val.csv\")\n",
    "\n",
    "train.drop([\"fbs_1\", \"cp_3\", \"restecg_2\", \"thal_1\", \"ca_4\"], axis=1, inplace=True)\n",
    "\n",
    "val.drop([\"fbs_1\", \"cp_3\", \"restecg_2\", \"thal_1\", \"ca_4\"], axis=1, inplace=True)"
   ]
  },
  {
   "cell_type": "markdown",
   "metadata": {},
   "source": [
    "# 1. Split X and y"
   ]
  },
  {
   "cell_type": "code",
   "execution_count": 2,
   "metadata": {},
   "outputs": [],
   "source": [
    "# seperate X and y variables\n",
    "X = train.drop(\"target\", axis=1)\n",
    "y = train.target\n",
    "cols = X.columns\n",
    "\n",
    "X_val = val.drop(\"target\", axis=1)\n",
    "y_val = val.target"
   ]
  },
  {
   "cell_type": "markdown",
   "metadata": {},
   "source": [
    "# 2. Scaling"
   ]
  },
  {
   "cell_type": "code",
   "execution_count": 3,
   "metadata": {},
   "outputs": [],
   "source": [
    "# scake data with standard scaler\n",
    "sc = StandardScaler()\n",
    "X = sc.fit_transform(X)\n",
    "X_val = sc.transform(X_val)\n",
    "\n",
    "X = pd.DataFrame(X, columns=cols)\n",
    "X_val = pd.DataFrame(X_val, columns=cols)"
   ]
  },
  {
   "cell_type": "markdown",
   "metadata": {},
   "source": [
    "# 3. Hyperparameter tuning"
   ]
  },
  {
   "cell_type": "code",
   "execution_count": 4,
   "metadata": {},
   "outputs": [
    {
     "name": "stderr",
     "output_type": "stream",
     "text": [
      "C:\\Users\\zasz\\Anaconda3\\lib\\site-packages\\sklearn\\model_selection\\_search.py:814: DeprecationWarning: The default of the `iid` parameter will change from True to False in version 0.22 and will be removed in 0.24. This will change numeric results when test-set sizes are unequal.\n",
      "  DeprecationWarning)\n"
     ]
    },
    {
     "data": {
      "text/plain": [
       "GridSearchCV(cv=5, error_score='raise-deprecating',\n",
       "             estimator=RandomForestClassifier(bootstrap=True, class_weight=None,\n",
       "                                              criterion='gini', max_depth=None,\n",
       "                                              max_features='auto',\n",
       "                                              max_leaf_nodes=None,\n",
       "                                              min_impurity_decrease=0.0,\n",
       "                                              min_impurity_split=None,\n",
       "                                              min_samples_leaf=1,\n",
       "                                              min_samples_split=2,\n",
       "                                              min_weight_fraction_leaf=0.0,\n",
       "                                              n_estimators='warn', n_jobs=None,\n",
       "                                              oob_score=False,\n",
       "                                              random_state=None, verbose=0,\n",
       "                                              warm_start=False),\n",
       "             iid='warn', n_jobs=None,\n",
       "             param_grid={'max_depth': [2, 3, 4, None],\n",
       "                         'min_samples_leaf': [2, 3, 4],\n",
       "                         'n_estimators': [50, 100, 150]},\n",
       "             pre_dispatch='2*n_jobs', refit=True, return_train_score=False,\n",
       "             scoring=None, verbose=0)"
      ]
     },
     "execution_count": 4,
     "metadata": {},
     "output_type": "execute_result"
    }
   ],
   "source": [
    "# create a parameter grid and conduct grid search\n",
    "params = {\n",
    "    \"max_depth\":[2, 3, 4, None],\n",
    "    \"min_samples_leaf\":[2, 3, 4],\n",
    "    \"n_estimators\":[50, 100, 150]\n",
    "}\n",
    "\n",
    "gs = GridSearchCV(RandomForestClassifier(), param_grid=params, cv=5)\n",
    "gs.fit(X, y)"
   ]
  },
  {
   "cell_type": "code",
   "execution_count": 5,
   "metadata": {
    "scrolled": true
   },
   "outputs": [
    {
     "data": {
      "text/plain": [
       "{'max_depth': None, 'min_samples_leaf': 2, 'n_estimators': 150}"
      ]
     },
     "execution_count": 5,
     "metadata": {},
     "output_type": "execute_result"
    }
   ],
   "source": [
    "# find best parameters\n",
    "gs.best_params_"
   ]
  },
  {
   "cell_type": "code",
   "execution_count": 6,
   "metadata": {},
   "outputs": [],
   "source": [
    "# save the model\n",
    "model1 = gs.best_estimator_"
   ]
  },
  {
   "cell_type": "markdown",
   "metadata": {},
   "source": [
    "# Performance Metrics"
   ]
  },
  {
   "cell_type": "code",
   "execution_count": 7,
   "metadata": {
    "scrolled": true
   },
   "outputs": [
    {
     "name": "stdout",
     "output_type": "stream",
     "text": [
      "training scores\n",
      "              precision    recall  f1-score   support\n",
      "\n",
      "           0       0.98      0.97      0.98       120\n",
      "           1       0.98      0.98      0.98       124\n",
      "\n",
      "    accuracy                           0.98       244\n",
      "   macro avg       0.98      0.98      0.98       244\n",
      "weighted avg       0.98      0.98      0.98       244\n",
      "\n",
      "\n",
      " validation scores\n",
      "              precision    recall  f1-score   support\n",
      "\n",
      "           0       0.60      1.00      0.75         9\n",
      "           1       1.00      0.68      0.81        19\n",
      "\n",
      "    accuracy                           0.79        28\n",
      "   macro avg       0.80      0.84      0.78        28\n",
      "weighted avg       0.87      0.79      0.79        28\n",
      "\n"
     ]
    }
   ],
   "source": [
    "# find performance metrics for train and val sets\n",
    "model1.fit(X, y)\n",
    "train_pred = model1.predict(X)\n",
    "y_pred = model1.predict(X_val)\n",
    "\n",
    "print(\"training scores\")\n",
    "print(classification_report(y, train_pred))\n",
    "print('\\n validation scores')\n",
    "print(classification_report(y_val, y_pred))"
   ]
  },
  {
   "cell_type": "markdown",
   "metadata": {},
   "source": [
    "## Problem: Over fitting"
   ]
  },
  {
   "cell_type": "markdown",
   "metadata": {},
   "source": [
    "The train set did much better than the validation set. I will try to fix this problem by lowering the max depth parameter"
   ]
  },
  {
   "cell_type": "code",
   "execution_count": 25,
   "metadata": {
    "scrolled": true
   },
   "outputs": [],
   "source": [
    "# create a parameter grid and conduct grid search\n",
    "params = {\n",
    "    \"max_depth\":[2],\n",
    "    \"min_samples_leaf\":[2, 3, 4],\n",
    "    \"n_estimators\":[50, 100, 150]\n",
    "}\n",
    "\n",
    "gs = GridSearchCV(RandomForestClassifier(), param_grid=params, cv=5)\n",
    "gs.fit(X, y)\n",
    "model1 = gs.best_estimator_"
   ]
  },
  {
   "cell_type": "code",
   "execution_count": 26,
   "metadata": {
    "scrolled": true
   },
   "outputs": [
    {
     "name": "stdout",
     "output_type": "stream",
     "text": [
      "training scores\n",
      "              precision    recall  f1-score   support\n",
      "\n",
      "           0       0.80      0.78      0.79       120\n",
      "           1       0.80      0.81      0.80       124\n",
      "\n",
      "    accuracy                           0.80       244\n",
      "   macro avg       0.80      0.80      0.80       244\n",
      "weighted avg       0.80      0.80      0.80       244\n",
      "\n",
      "\n",
      " validation scores\n",
      "              precision    recall  f1-score   support\n",
      "\n",
      "           0       0.60      1.00      0.75         9\n",
      "           1       1.00      0.68      0.81        19\n",
      "\n",
      "    accuracy                           0.79        28\n",
      "   macro avg       0.80      0.84      0.78        28\n",
      "weighted avg       0.87      0.79      0.79        28\n",
      "\n"
     ]
    }
   ],
   "source": [
    "# find performance metrics for train and val sets\n",
    "model1.fit(X, y)\n",
    "train_pred = model1.predict(X)\n",
    "y_pred = model1.predict(X_val)\n",
    "\n",
    "print(\"training scores\")\n",
    "print(classification_report(y, train_pred))\n",
    "print('\\n validation scores')\n",
    "print(classification_report(y_val, y_pred))"
   ]
  },
  {
   "cell_type": "markdown",
   "metadata": {},
   "source": [
    "The model is still not performing well."
   ]
  },
  {
   "cell_type": "markdown",
   "metadata": {},
   "source": [
    "## Feature importances"
   ]
  },
  {
   "cell_type": "code",
   "execution_count": 27,
   "metadata": {
    "scrolled": false
   },
   "outputs": [
    {
     "data": {
      "image/png": "[encoded data removed]",
      "text/plain": [
       "<Figure size 432x288 with 1 Axes>"
      ]
     },
     "metadata": {
      "needs_background": "light"
     },
     "output_type": "display_data"
    }
   ],
   "source": [
    "plt.barh(X.columns, model1.feature_importances_)\n",
    "plt.show()"
   ]
  },
  {
   "cell_type": "markdown",
   "metadata": {},
   "source": [
    "# Recreate data with only the best features"
   ]
  },
  {
   "cell_type": "code",
   "execution_count": 30,
   "metadata": {},
   "outputs": [],
   "source": [
    "# select best features\n",
    "X_t = pd.concat([X.thal_3, X.thal_2, X.oldpeak, X.thalach], axis=1)\n",
    "X_val_t = pd.concat([X_val.thal_3, X_val.thal_2, X_val.oldpeak, X_val.thalach], axis=1)"
   ]
  },
  {
   "cell_type": "markdown",
   "metadata": {},
   "source": [
    "# Hyperparameter tuning"
   ]
  },
  {
   "cell_type": "code",
   "execution_count": 36,
   "metadata": {},
   "outputs": [
    {
     "data": {
      "text/plain": [
       "GridSearchCV(cv=5, error_score='raise-deprecating',\n",
       "             estimator=RandomForestClassifier(bootstrap=True, class_weight=None,\n",
       "                                              criterion='gini', max_depth=None,\n",
       "                                              max_features='auto',\n",
       "                                              max_leaf_nodes=None,\n",
       "                                              min_impurity_decrease=0.0,\n",
       "                                              min_impurity_split=None,\n",
       "                                              min_samples_leaf=1,\n",
       "                                              min_samples_split=2,\n",
       "                                              min_weight_fraction_leaf=0.0,\n",
       "                                              n_estimators='warn', n_jobs=None,\n",
       "                                              oob_score=False,\n",
       "                                              random_state=None, verbose=0,\n",
       "                                              warm_start=False),\n",
       "             iid='warn', n_jobs=None,\n",
       "             param_grid={'max_depth': [2, 3], 'min_samples_leaf': [2, 3, 4],\n",
       "                         'n_estimators': [50, 100, 150]},\n",
       "             pre_dispatch='2*n_jobs', refit=True, return_train_score=False,\n",
       "             scoring=None, verbose=0)"
      ]
     },
     "execution_count": 36,
     "metadata": {},
     "output_type": "execute_result"
    }
   ],
   "source": [
    "# create a parameter grid and conduct grid search\n",
    "params = {\n",
    "    \"max_depth\":[2, 3],\n",
    "    \"min_samples_leaf\":[2, 3, 4],\n",
    "    \"n_estimators\":[50, 100, 150]\n",
    "}\n",
    "\n",
    "gs = GridSearchCV(RandomForestClassifier(), param_grid=params, cv=5)\n",
    "gs.fit(X_t, y)"
   ]
  },
  {
   "cell_type": "code",
   "execution_count": 37,
   "metadata": {
    "scrolled": true
   },
   "outputs": [
    {
     "data": {
      "text/plain": [
       "{'max_depth': 2, 'min_samples_leaf': 2, 'n_estimators': 100}"
      ]
     },
     "execution_count": 37,
     "metadata": {},
     "output_type": "execute_result"
    }
   ],
   "source": [
    "# find best parameters\n",
    "gs.best_params_"
   ]
  },
  {
   "cell_type": "code",
   "execution_count": 38,
   "metadata": {},
   "outputs": [],
   "source": [
    "# save the model\n",
    "model2 = gs.best_estimator_"
   ]
  },
  {
   "cell_type": "markdown",
   "metadata": {},
   "source": [
    "# Performance Metrics"
   ]
  },
  {
   "cell_type": "code",
   "execution_count": 39,
   "metadata": {
    "scrolled": true
   },
   "outputs": [
    {
     "name": "stdout",
     "output_type": "stream",
     "text": [
      "training scores\n",
      "              precision    recall  f1-score   support\n",
      "\n",
      "           0       0.81      0.80      0.81       120\n",
      "           1       0.81      0.82      0.82       124\n",
      "\n",
      "    accuracy                           0.81       244\n",
      "   macro avg       0.81      0.81      0.81       244\n",
      "weighted avg       0.81      0.81      0.81       244\n",
      "\n",
      "\n",
      " validation scores\n",
      "              precision    recall  f1-score   support\n",
      "\n",
      "           0       0.56      1.00      0.72         9\n",
      "           1       1.00      0.63      0.77        19\n",
      "\n",
      "    accuracy                           0.75        28\n",
      "   macro avg       0.78      0.82      0.75        28\n",
      "weighted avg       0.86      0.75      0.76        28\n",
      "\n"
     ]
    }
   ],
   "source": [
    "# find performance metrics for train and val sets\n",
    "model1.fit(X, y)\n",
    "train_pred = model1.predict(X)\n",
    "y_pred = model1.predict(X_val)\n",
    "\n",
    "print(\"training scores\")\n",
    "print(classification_report(y, train_pred))\n",
    "print('\\n validation scores')\n",
    "print(classification_report(y_val, y_pred))"
   ]
  },
  {
   "cell_type": "markdown",
   "metadata": {},
   "source": [
    "## Precision Recall Tradeoff"
   ]
  },
  {
   "cell_type": "code",
   "execution_count": 41,
   "metadata": {},
   "outputs": [
    {
     "name": "stderr",
     "output_type": "stream",
     "text": [
      "C:\\Users\\zasz\\Anaconda3\\lib\\site-packages\\sklearn\\metrics\\classification.py:1437: UndefinedMetricWarning: Precision is ill-defined and being set to 0.0 due to no predicted samples.\n",
      "  'precision', 'predicted', average, warn_for)\n"
     ]
    },
    {
     "data": {
      "image/png": "[encoded data removed]",
      "text/plain": [
       "<Figure size 1080x360 with 1 Axes>"
      ]
     },
     "metadata": {
      "needs_background": "light"
     },
     "output_type": "display_data"
    }
   ],
   "source": [
    "# conduct precision recall tradeoff\n",
    "probs = model1.predict_proba(X)[:, 1]\n",
    "\n",
    "thresholds = np.linspace(0, 1, 100)\n",
    "\n",
    "precisions = []\n",
    "recalls = []\n",
    "for thresh in thresholds:\n",
    "    predicted_vals = [1 if prob > thresh else 0 for prob in probs]\n",
    "    precisions.append(precision_score(y, predicted_vals))\n",
    "    recalls.append(recall_score(y, predicted_vals))\n",
    "\n",
    "plt.figure(figsize=(15, 5))\n",
    "plt.plot(thresholds, recalls, label=\"recall\")\n",
    "plt.plot(thresholds, precisions, label=\"precision\")\n",
    "plt.title(\"precision recall tradeoff\")\n",
    "plt.legend()\n",
    "plt.show()"
   ]
  },
  {
   "cell_type": "markdown",
   "metadata": {},
   "source": [
    "It seems the best threshold is around 0.2 "
   ]
  },
  {
   "cell_type": "code",
   "execution_count": 42,
   "metadata": {},
   "outputs": [
    {
     "name": "stdout",
     "output_type": "stream",
     "text": [
      "training scores\n",
      "              precision    recall  f1-score   support\n",
      "\n",
      "           0       1.00      0.28      0.44       120\n",
      "           1       0.59      1.00      0.74       124\n",
      "\n",
      "    accuracy                           0.65       244\n",
      "   macro avg       0.80      0.64      0.59       244\n",
      "weighted avg       0.79      0.65      0.59       244\n",
      "\n",
      "\n",
      " validation scores\n",
      "              precision    recall  f1-score   support\n",
      "\n",
      "           0       1.00      0.44      0.62         9\n",
      "           1       0.79      1.00      0.88        19\n",
      "\n",
      "    accuracy                           0.82        28\n",
      "   macro avg       0.90      0.72      0.75        28\n",
      "weighted avg       0.86      0.82      0.80        28\n",
      "\n"
     ]
    }
   ],
   "source": [
    "# explore performance metrics after precision recall tradeoff\n",
    "probs = model1.predict_proba(X)[:, 1]\n",
    "train_pred = [1 if prob > 0.2 else 0 for prob in probs]\n",
    "\n",
    "probs = model1.predict_proba(X_val)[:, 1]\n",
    "y_pred = [1 if prob > 0.2 else 0 for prob in probs]\n",
    "\n",
    "print(\"training scores\")\n",
    "print(classification_report(y, train_pred))\n",
    "print('\\n validation scores')\n",
    "print(classification_report(y_val, y_pred))"
   ]
  }
 ],
 "metadata": {
  "kernelspec": {
   "display_name": "Python 3",
   "language": "python",
   "name": "python3"
  },
  "language_info": {
   "codemirror_mode": {
    "name": "ipython",
    "version": 3
   },
   "file_extension": ".py",
   "mimetype": "text/x-python",
   "name": "python",
   "nbconvert_exporter": "python",
   "pygments_lexer": "ipython3",
   "version": "3.7.3"
  }
 },
 "nbformat": 4,
 "nbformat_minor": 2
}
